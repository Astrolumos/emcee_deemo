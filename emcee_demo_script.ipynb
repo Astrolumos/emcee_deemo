{
 "cells": [
  {
   "cell_type": "code",
   "execution_count": 1,
   "metadata": {},
   "outputs": [],
   "source": [
    "import numpy as np\n",
    "import sys\n",
    "import emcee\n",
    "import corner\n",
    "import matplotlib as plt\n"
   ]
  },
  {
   "cell_type": "code",
   "execution_count": 2,
   "metadata": {},
   "outputs": [],
   "source": [
    "import emcee_demo"
   ]
  },
  {
   "cell_type": "markdown",
   "metadata": {},
   "source": [
    "# Define the model class"
   ]
  },
  {
   "cell_type": "code",
   "execution_count": 50,
   "metadata": {},
   "outputs": [],
   "source": [
    "class get_model:\n",
    "\n",
    "    def __init__(self, paramsdict_free, params_fixed,\n",
    "                 paramsdict_fixed, **kwargs):\n",
    "        self.paramsdict_fixed = paramsdict_fixed\n",
    "        self.paramsdict_free = paramsdict_free\n",
    "        self.params_fixed = params_fixed\n",
    "        \n",
    "        \n",
    "    def get_kw(self, params):\n",
    "        kw = {'a': 0.2,\n",
    "              'b': 1,}\n",
    "        \n",
    "        for i, pf in enumerate(self.paramsdict_fixed):\n",
    "            kw[pf] = self.params_fixed[i]\n",
    "\n",
    "        for i, pf in enumerate(self.paramsdict_free):\n",
    "            kw[pf] = params[i]\n",
    "        ###\n",
    "        self.kw = kw\n",
    "    \n",
    "    def model(self, x, params):\n",
    "        self.get_kw(params)\n",
    "        params = self.kw\n",
    "        '''\n",
    "        This is an example model 'y = a*x + b' where a and b are parameters.\n",
    "        '''\n",
    "        return params['a'] * x + params['b']"
   ]
  },
  {
   "cell_type": "markdown",
   "metadata": {},
   "source": [
    "# Set some data (with random noise added)"
   ]
  },
  {
   "cell_type": "code",
   "execution_count": 75,
   "metadata": {},
   "outputs": [],
   "source": [
    "data_x = np.linspace(0, 10, 20)\n",
    "data_y_sample = np.zeros((50, 20))\n",
    "for i in range(50):\n",
    "    data_y_sample[i] = .2 * data_x + 1 + np.random.normal(size=20) * 1\n",
    "\n",
    "data_y = np.mean(data_y_sample, axis=0)\n",
    "data_cov = np.cov(data_y_sample.T)"
   ]
  },
  {
   "cell_type": "markdown",
   "metadata": {},
   "source": [
    "# Defining likelihood"
   ]
  },
  {
   "cell_type": "code",
   "execution_count": 76,
   "metadata": {},
   "outputs": [
    {
     "name": "stdout",
     "output_type": "stream",
     "text": [
      "Free parameters:['a' 'b']\n"
     ]
    }
   ],
   "source": [
    "import emcee_demo as ed\n",
    "reload(ed)\n",
    "filename = './emcee_demo.yaml'\n",
    "\n",
    "nsteps, nwalkers, lsteps, burnin, paramsdict_free, params_free_0, params_range,\\\n",
    "        paramsdict_fixed, params_fixed = ed.mcmc_setup(filename)\n",
    "\n",
    "gm = get_model(paramsdict_free, params_fixed, paramsdict_fixed)\n",
    "lnlike = ed.lnlikelihood(data_x, data_y, data_cov, gm.model, params_range,\n",
    "                             paramsdict_free, params_fixed, paramsdict_fixed)"
   ]
  },
  {
   "cell_type": "markdown",
   "metadata": {},
   "source": [
    "# Run MCMC"
   ]
  },
  {
   "cell_type": "code",
   "execution_count": 80,
   "metadata": {},
   "outputs": [
    {
     "name": "stderr",
     "output_type": "stream",
     "text": [
      "100%|██████████| 20/20 [00:00<00:00, 46.91it/s]\n",
      "100%|██████████| 500/500 [00:09<00:00, 55.51it/s]\n"
     ]
    }
   ],
   "source": [
    "pool=None\n",
    "\n",
    "mcmc_chain, posterior = ed.runmcmc(params_free_0, nsteps, nwalkers, lsteps, \n",
    "                                   lnlike.lnposterior,\n",
    "                                   pool, burnin=burnin)"
   ]
  },
  {
   "cell_type": "markdown",
   "metadata": {},
   "source": [
    "# Plor posterior"
   ]
  },
  {
   "cell_type": "code",
   "execution_count": 83,
   "metadata": {},
   "outputs": [
    {
     "name": "stdout",
     "output_type": "stream",
     "text": [
      "Removed no burn in\n"
     ]
    },
    {
     "data": {
      "image/png": "[encoded data removed]",
      "text/plain": [
       "<Figure size 288x288 with 3 Axes>"
      ]
     },
     "metadata": {
      "needs_background": "light"
     },
     "output_type": "display_data"
    }
   ],
   "source": [
    "from getdist import plots, MCSamples\n",
    "paramsdict_label = np.array([])\n",
    "labels = [\"a\", \"b\"]\n",
    "names = ['$a$', '$b$']\n",
    "\n",
    "samples = MCSamples(samples=mcmc_chain, names = names, labels = labels)\n",
    "g = plots.get_subplot_plotter()\n",
    "g.triangle_plot([samples], filled=True)\n"
   ]
  }
 ],
 "metadata": {
  "anaconda-cloud": {},
  "kernelspec": {
   "display_name": "Python 2",
   "language": "python",
   "name": "python2"
  },
  "language_info": {
   "codemirror_mode": {
    "name": "ipython",
    "version": 2
   },
   "file_extension": ".py",
   "mimetype": "text/x-python",
   "name": "python",
   "nbconvert_exporter": "python",
   "pygments_lexer": "ipython2",
   "version": "2.7.12"
  },
  "toc": {
   "base_numbering": 1,
   "nav_menu": {},
   "number_sections": true,
   "sideBar": true,
   "skip_h1_title": false,
   "title_cell": "Table of Contents",
   "title_sidebar": "Contents",
   "toc_cell": false,
   "toc_position": {},
   "toc_section_display": true,
   "toc_window_display": false
  }
 },
 "nbformat": 4,
 "nbformat_minor": 2
}
